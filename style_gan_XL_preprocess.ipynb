{
 "cells": [
  {
   "cell_type": "code",
   "execution_count": 6,
   "metadata": {},
   "outputs": [
    {
     "name": "stderr",
     "output_type": "stream",
     "text": [
      "Images: 100%|██████████| 1000/1000 [00:03<00:00, 263.55it/s]\n",
      "Images:  24%|██▎       | 236/1000 [00:01<00:06, 126.41it/s]\n",
      "Directories:   0%|          | 1/461 [00:05<43:25,  5.66s/it]\n"
     ]
    },
    {
     "ename": "KeyboardInterrupt",
     "evalue": "",
     "output_type": "error",
     "traceback": [
      "\u001b[0;31m---------------------------------------------------------------------------\u001b[0m",
      "\u001b[0;31mKeyboardInterrupt\u001b[0m                         Traceback (most recent call last)",
      "\u001b[1;32m/home/nicholasjprimiano/stylegan_xl/style_gan_XL_preprocess.ipynb Cell 1'\u001b[0m in \u001b[0;36m<cell line: 38>\u001b[0;34m()\u001b[0m\n\u001b[1;32m     <a href='vscode-notebook-cell:/home/nicholasjprimiano/stylegan_xl/style_gan_XL_preprocess.ipynb#ch0000000?line=33'>34</a>\u001b[0m                     imResize \u001b[39m=\u001b[39m current_img\u001b[39m.\u001b[39mresize((new_scale,new_scale), Image\u001b[39m.\u001b[39mANTIALIAS)\n\u001b[1;32m     <a href='vscode-notebook-cell:/home/nicholasjprimiano/stylegan_xl/style_gan_XL_preprocess.ipynb#ch0000000?line=34'>35</a>\u001b[0m                     imResize\u001b[39m.\u001b[39msave(new_base_dir \u001b[39m+\u001b[39m \u001b[39m\"\u001b[39m\u001b[39m/\u001b[39m\u001b[39m\"\u001b[39m \u001b[39m+\u001b[39m \u001b[39mdir\u001b[39m \u001b[39m+\u001b[39m \u001b[39m\"\u001b[39m\u001b[39m/\u001b[39m\u001b[39m\"\u001b[39m \u001b[39m+\u001b[39m img, quality\u001b[39m=\u001b[39m\u001b[39m100\u001b[39m)\n\u001b[0;32m---> <a href='vscode-notebook-cell:/home/nicholasjprimiano/stylegan_xl/style_gan_XL_preprocess.ipynb#ch0000000?line=37'>38</a>\u001b[0m rescale_dataset(base_dir, new_base_dir, new_scale)\n",
      "\u001b[1;32m/home/nicholasjprimiano/stylegan_xl/style_gan_XL_preprocess.ipynb Cell 1'\u001b[0m in \u001b[0;36mrescale_dataset\u001b[0;34m(base_dir, new_base_dir, new_scale)\u001b[0m\n\u001b[1;32m     <a href='vscode-notebook-cell:/home/nicholasjprimiano/stylegan_xl/style_gan_XL_preprocess.ipynb#ch0000000?line=30'>31</a>\u001b[0m curr_file \u001b[39m=\u001b[39m current_dir \u001b[39m+\u001b[39m \u001b[39m\"\u001b[39m\u001b[39m/\u001b[39m\u001b[39m\"\u001b[39m \u001b[39m+\u001b[39m img\n\u001b[1;32m     <a href='vscode-notebook-cell:/home/nicholasjprimiano/stylegan_xl/style_gan_XL_preprocess.ipynb#ch0000000?line=31'>32</a>\u001b[0m \u001b[39mif\u001b[39;00m img\u001b[39m.\u001b[39mendswith(\u001b[39m\"\u001b[39m\u001b[39m.png\u001b[39m\u001b[39m\"\u001b[39m): \n\u001b[0;32m---> <a href='vscode-notebook-cell:/home/nicholasjprimiano/stylegan_xl/style_gan_XL_preprocess.ipynb#ch0000000?line=32'>33</a>\u001b[0m     current_img \u001b[39m=\u001b[39m Image\u001b[39m.\u001b[39;49mopen(curr_file) \n\u001b[1;32m     <a href='vscode-notebook-cell:/home/nicholasjprimiano/stylegan_xl/style_gan_XL_preprocess.ipynb#ch0000000?line=33'>34</a>\u001b[0m     imResize \u001b[39m=\u001b[39m current_img\u001b[39m.\u001b[39mresize((new_scale,new_scale), Image\u001b[39m.\u001b[39mANTIALIAS)\n\u001b[1;32m     <a href='vscode-notebook-cell:/home/nicholasjprimiano/stylegan_xl/style_gan_XL_preprocess.ipynb#ch0000000?line=34'>35</a>\u001b[0m     imResize\u001b[39m.\u001b[39msave(new_base_dir \u001b[39m+\u001b[39m \u001b[39m\"\u001b[39m\u001b[39m/\u001b[39m\u001b[39m\"\u001b[39m \u001b[39m+\u001b[39m \u001b[39mdir\u001b[39m \u001b[39m+\u001b[39m \u001b[39m\"\u001b[39m\u001b[39m/\u001b[39m\u001b[39m\"\u001b[39m \u001b[39m+\u001b[39m img, quality\u001b[39m=\u001b[39m\u001b[39m100\u001b[39m)\n",
      "File \u001b[0;32m/usr/lib/python3/dist-packages/PIL/Image.py:2962\u001b[0m, in \u001b[0;36mopen\u001b[0;34m(fp, mode, formats)\u001b[0m\n\u001b[1;32m   <a href='file:///usr/lib/python3/dist-packages/PIL/Image.py?line=2958'>2959</a>\u001b[0m     fp \u001b[39m=\u001b[39m io\u001b[39m.\u001b[39mBytesIO(fp\u001b[39m.\u001b[39mread())\n\u001b[1;32m   <a href='file:///usr/lib/python3/dist-packages/PIL/Image.py?line=2959'>2960</a>\u001b[0m     exclusive_fp \u001b[39m=\u001b[39m \u001b[39mTrue\u001b[39;00m\n\u001b[0;32m-> <a href='file:///usr/lib/python3/dist-packages/PIL/Image.py?line=2961'>2962</a>\u001b[0m prefix \u001b[39m=\u001b[39m fp\u001b[39m.\u001b[39;49mread(\u001b[39m16\u001b[39;49m)\n\u001b[1;32m   <a href='file:///usr/lib/python3/dist-packages/PIL/Image.py?line=2963'>2964</a>\u001b[0m preinit()\n\u001b[1;32m   <a href='file:///usr/lib/python3/dist-packages/PIL/Image.py?line=2965'>2966</a>\u001b[0m accept_warnings \u001b[39m=\u001b[39m []\n",
      "\u001b[0;31mKeyboardInterrupt\u001b[0m: "
     ]
    }
   ],
   "source": [
    "import os\n",
    "from PIL import Image\n",
    "from tqdm import tqdm\n",
    "import shutil\n",
    "\n",
    "base_dir = \"/media/nicholasjprimiano/MLData/style_gan_dataset/\"\n",
    "new_scale = 16\n",
    "\n",
    "new_base_dir = \"/media/nicholasjprimiano/MLData/\" + \"style_gan_dataset_\" + str(new_scale) + \"x\" + str(new_scale) + \"/\"\n",
    "\n",
    "if not os.path.exists(new_base_dir):\n",
    "            os.mkdir(new_base_dir)\n",
    "\n",
    "def rescale_dataset(base_dir=base_dir , new_base_dir=new_base_dir, new_scale=new_scale):\n",
    "    base_dirs = os.listdir(base_dir)\n",
    "    for dir in tqdm(base_dirs, position = 1, desc=\"Directories: \"):\n",
    "        if dir.endswith(\".json\"):\n",
    "            print(dir)\n",
    "            shutil.copyfile(base_dir+dir,new_base_dir + \"/dataset.json\")\n",
    "        \n",
    "        #if int(dir) > 203: # needed to restart when google drive I/O time out\n",
    "        new_path = os.path.join(new_base_dir, dir)\n",
    "        if not os.path.exists(new_path):\n",
    "            os.mkdir(new_path)\n",
    "            \n",
    "        current_dir = base_dir + dir\n",
    "        \n",
    "        if not dir.endswith(\".json\"):\n",
    "            image_list = os.listdir(current_dir)\n",
    "            for img in tqdm(image_list, position = 0, desc=\"Images: \"):\n",
    "                curr_file = current_dir + \"/\" + img\n",
    "                if img.endswith(\".png\"): \n",
    "                    current_img = Image.open(curr_file) \n",
    "                    imResize = current_img.resize((new_scale,new_scale), Image.ANTIALIAS)\n",
    "                    imResize.save(new_base_dir + \"/\" + dir + \"/\" + img, quality=100)\n",
    "\n",
    "\n",
    "rescale_dataset(base_dir, new_base_dir, new_scale)"
   ]
  }
 ],
 "metadata": {
  "interpreter": {
   "hash": "916dbcbb3f70747c44a77c7bcd40155683ae19c65e1c03b4aa3499c5328201f1"
  },
  "kernelspec": {
   "display_name": "Python 3.10.4 64-bit",
   "language": "python",
   "name": "python3"
  },
  "language_info": {
   "codemirror_mode": {
    "name": "ipython",
    "version": 3
   },
   "file_extension": ".py",
   "mimetype": "text/x-python",
   "name": "python",
   "nbconvert_exporter": "python",
   "pygments_lexer": "ipython3",
   "version": "3.10.4"
  },
  "orig_nbformat": 4
 },
 "nbformat": 4,
 "nbformat_minor": 2
}
